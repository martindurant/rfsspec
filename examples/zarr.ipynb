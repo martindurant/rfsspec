{
 "cells": [
  {
   "cell_type": "markdown",
   "id": "d28af653",
   "metadata": {},
   "source": [
    "# rusty http"
   ]
  },
  {
   "cell_type": "code",
   "execution_count": null,
   "id": "845dd9b2",
   "metadata": {},
   "outputs": [],
   "source": [
    "import rfsspec\n",
    "import xarray as xr\n",
    "import zarr.storage"
   ]
  },
  {
   "cell_type": "code",
   "execution_count": null,
   "id": "5688020e",
   "metadata": {},
   "outputs": [],
   "source": [
    "fs = rfsspec.RustyHTTPFileSystem()"
   ]
  },
  {
   "cell_type": "code",
   "execution_count": null,
   "id": "3faf16f2",
   "metadata": {},
   "outputs": [],
   "source": [
    "store = zarr.storage.FSStore(\n",
    "    \"https://noaa-nwm-retrospective-2-1-zarr-pds.s3.amazonaws.com/\"\n",
    "    \"rtout.zarr/\", \n",
    "    fs=fs)"
   ]
  },
  {
   "cell_type": "code",
   "execution_count": null,
   "id": "b26c2210",
   "metadata": {
    "scrolled": true
   },
   "outputs": [],
   "source": [
    "print(store['.zgroup'].decode())"
   ]
  },
  {
   "cell_type": "code",
   "execution_count": null,
   "id": "8a228e69",
   "metadata": {
    "scrolled": true
   },
   "outputs": [],
   "source": [
    "ds = xr.open_dataset(store, engine=\"zarr\")\n",
    "ds"
   ]
  },
  {
   "cell_type": "code",
   "execution_count": null,
   "id": "8c8b5317",
   "metadata": {},
   "outputs": [],
   "source": [
    "ds.zwattablrt.isel(time=0, y=0).values"
   ]
  },
  {
   "cell_type": "markdown",
   "id": "2f7ffb72",
   "metadata": {},
   "source": [
    "# rusty s3"
   ]
  },
  {
   "cell_type": "code",
   "execution_count": null,
   "id": "223b0ce7",
   "metadata": {},
   "outputs": [],
   "source": [
    "fs = rfsspec.RustyS3FileSystem()"
   ]
  },
  {
   "cell_type": "code",
   "execution_count": null,
   "id": "f9d0d188",
   "metadata": {},
   "outputs": [],
   "source": [
    "store = zarr.storage.FSStore(\n",
    "    \"noaa-nwm-retrospective-2-1-zarr-pds/\"\n",
    "    \"rtout.zarr/\", \n",
    "    fs=fs)"
   ]
  },
  {
   "cell_type": "code",
   "execution_count": null,
   "id": "9c4b82a4",
   "metadata": {},
   "outputs": [],
   "source": [
    "print(store['.zgroup'])"
   ]
  },
  {
   "cell_type": "code",
   "execution_count": null,
   "id": "79315250",
   "metadata": {},
   "outputs": [],
   "source": [
    "ds = xr.open_dataset(store, engine=\"zarr\")\n",
    "ds"
   ]
  },
  {
   "cell_type": "code",
   "execution_count": null,
   "id": "73f65a3f",
   "metadata": {},
   "outputs": [],
   "source": [
    "ds.zwattablrt.isel(time=0, y=0).values"
   ]
  },
  {
   "cell_type": "markdown",
   "id": "2a016f1d",
   "metadata": {},
   "source": [
    "# Rusty GCS"
   ]
  },
  {
   "cell_type": "code",
   "execution_count": null,
   "id": "8b24b27b",
   "metadata": {},
   "outputs": [],
   "source": [
    "import os\n",
    "# can change the value of project here as required\n",
    "fs = rfsspec.RustyGCSFileSystem(project=os.getenv(\"GCP_PROJECT\"), requester_pays=True)"
   ]
  },
  {
   "cell_type": "code",
   "execution_count": null,
   "id": "75710cc0",
   "metadata": {},
   "outputs": [],
   "source": [
    "store = zarr.storage.FSStore(\n",
    "    \"pangeo-cesm-pop/control/\", \n",
    "    fs=fs)"
   ]
  },
  {
   "cell_type": "code",
   "execution_count": null,
   "id": "634f73b3",
   "metadata": {},
   "outputs": [],
   "source": [
    "print(store['.zgroup'].decode())"
   ]
  },
  {
   "cell_type": "code",
   "execution_count": null,
   "id": "cb467795",
   "metadata": {},
   "outputs": [],
   "source": [
    "ds = xr.open_dataset(store, engine=\"zarr\")\n",
    "ds"
   ]
  },
  {
   "cell_type": "markdown",
   "id": "f4968875",
   "metadata": {},
   "source": [
    "# Rusty azure blob"
   ]
  },
  {
   "cell_type": "code",
   "execution_count": null,
   "id": "10d0014d",
   "metadata": {},
   "outputs": [],
   "source": [
    "fs = rfsspec.RustyAzureFileSystem(account=\"daymeteuwest\", anon=True)"
   ]
  },
  {
   "cell_type": "code",
   "execution_count": null,
   "id": "35de400a",
   "metadata": {},
   "outputs": [],
   "source": [
    "store = zarr.storage.FSStore(\n",
    "    \"daymet-zarr/daily/hi.zarr/\", \n",
    "    fs=fs)"
   ]
  },
  {
   "cell_type": "code",
   "execution_count": null,
   "id": "6baa3535",
   "metadata": {},
   "outputs": [],
   "source": [
    "print(store['.zgroup'].decode())"
   ]
  },
  {
   "cell_type": "code",
   "execution_count": null,
   "id": "e951fac4",
   "metadata": {},
   "outputs": [],
   "source": [
    "ds = xr.open_dataset(store, engine=\"zarr\")\n",
    "ds"
   ]
  },
  {
   "cell_type": "code",
   "execution_count": null,
   "id": "193bdf98",
   "metadata": {},
   "outputs": [],
   "source": []
  }
 ],
 "metadata": {
  "kernelspec": {
   "display_name": "Python 3 (ipykernel)",
   "language": "python",
   "name": "python3"
  },
  "language_info": {
   "codemirror_mode": {
    "name": "ipython",
    "version": 3
   },
   "file_extension": ".py",
   "mimetype": "text/x-python",
   "name": "python",
   "nbconvert_exporter": "python",
   "pygments_lexer": "ipython3",
   "version": "3.9.13"
  }
 },
 "nbformat": 4,
 "nbformat_minor": 5
}
