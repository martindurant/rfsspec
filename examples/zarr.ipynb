{
 "cells": [
  {
   "cell_type": "markdown",
   "id": "d28af653",
   "metadata": {},
   "source": [
    "# rusty http"
   ]
  },
  {
   "cell_type": "code",
   "execution_count": null,
   "id": "845dd9b2",
   "metadata": {},
   "outputs": [],
   "source": [
    "import rfsspec\n",
    "import xarray as xr\n",
    "import zarr.storage"
   ]
  },
  {
   "cell_type": "code",
   "execution_count": null,
   "id": "5688020e",
   "metadata": {},
   "outputs": [],
   "source": [
    "fs = rfsspec.RustyHTTPFileSystem()"
   ]
  },
  {
   "cell_type": "code",
   "execution_count": null,
   "id": "3faf16f2",
   "metadata": {},
   "outputs": [],
   "source": [
    "store = zarr.storage.FSStore(\n",
    "    \"https://noaa-nwm-retrospective-2-1-zarr-pds.s3.amazonaws.com/\"\n",
    "    \"rtout.zarr/\", \n",
    "    fs=fs)"
   ]
  },
  {
   "cell_type": "code",
   "execution_count": null,
   "id": "b26c2210",
   "metadata": {
    "scrolled": true
   },
   "outputs": [],
   "source": [
    "print(store['.zgroup'].decode())"
   ]
  },
  {
   "cell_type": "code",
   "execution_count": null,
   "id": "8a228e69",
   "metadata": {
    "scrolled": true
   },
   "outputs": [],
   "source": [
    "ds = xr.open_dataset(store, engine=\"zarr\")\n",
    "ds"
   ]
  },
  {
   "cell_type": "code",
   "execution_count": null,
   "id": "8c8b5317",
   "metadata": {},
   "outputs": [],
   "source": [
    "ds.zwattablrt.isel(time=0, y=0).values"
   ]
  },
  {
   "cell_type": "markdown",
   "id": "2f7ffb72",
   "metadata": {},
   "source": [
    "# rusty s3"
   ]
  },
  {
   "cell_type": "code",
   "execution_count": null,
   "id": "223b0ce7",
   "metadata": {},
   "outputs": [],
   "source": [
    "fs = rfsspec.RustyS3FileSystem()"
   ]
  },
  {
   "cell_type": "code",
   "execution_count": null,
   "id": "f9d0d188",
   "metadata": {},
   "outputs": [],
   "source": [
    "store = zarr.storage.FSStore(\n",
    "    \"noaa-nwm-retrospective-2-1-zarr-pds/\"\n",
    "    \"rtout.zarr/\", \n",
    "    fs=fs)"
   ]
  },
  {
   "cell_type": "code",
   "execution_count": null,
   "id": "9c4b82a4",
   "metadata": {},
   "outputs": [],
   "source": [
    "print(store['.zgroup'])"
   ]
  },
  {
   "cell_type": "code",
   "execution_count": null,
   "id": "79315250",
   "metadata": {},
   "outputs": [],
   "source": [
    "ds = xr.open_dataset(store, engine=\"zarr\")\n",
    "ds"
   ]
  },
  {
   "cell_type": "code",
   "execution_count": null,
   "id": "73f65a3f",
   "metadata": {},
   "outputs": [],
   "source": [
    "ds.zwattablrt.isel(time=0, y=0).values"
   ]
  },
  {
   "cell_type": "code",
   "execution_count": null,
   "id": "43fcd98a",
   "metadata": {},
   "outputs": [],
   "source": []
  }
 ],
 "metadata": {
  "kernelspec": {
   "display_name": "Python 3 (ipykernel)",
   "language": "python",
   "name": "python3"
  },
  "language_info": {
   "codemirror_mode": {
    "name": "ipython",
    "version": 3
   },
   "file_extension": ".py",
   "mimetype": "text/x-python",
   "name": "python",
   "nbconvert_exporter": "python",
   "pygments_lexer": "ipython3",
   "version": "3.9.13"
  }
 },
 "nbformat": 4,
 "nbformat_minor": 5
}
